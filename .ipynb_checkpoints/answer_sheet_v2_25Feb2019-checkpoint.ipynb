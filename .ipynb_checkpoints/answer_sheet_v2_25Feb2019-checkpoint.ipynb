{
 "cells": [
  {
   "cell_type": "markdown",
   "metadata": {},
   "source": [
    "# Assignment 2 - Mining Frequent Pattern and Asssociation Rules\n",
    "This answer sheet contains your answer to questions in Section 1~3. Sentences in <span style=\"color:blue\">blue</span> indicates questions to be answered. \n",
    "\n",
    "For open questions, please organize your answer into \"points\" to ease our grading efforts. For example, an answer to \"What is the most popular item? Explain you answer and describe any assumptions you’ve made.\" should look like:\n",
    "\n",
    "> The most popular item ID is 12345. The reason is that:\n",
    "> - reason 1\n",
    "> - reason 2\n",
    "> \n",
    "> I've made the following assumptions:\n",
    "> - assumption 1\n",
    "> - assumption 2\n",
    "\n",
    "If you wish to type math equations in markdown, follow this link: https://jupyter-notebook.readthedocs.io/en/stable/examples/Notebook/Working%20With%20Markdown%20Cells.html#LaTeX-equations\n",
    "\n",
    "Remember to save this Jupyter notebook as __YourNameInIVLE_YourIDInIVLE.ipynb__."
   ]
  },
  {
   "cell_type": "markdown",
   "metadata": {},
   "source": [
    "**Import all libraries and load data here**"
   ]
  },
  {
   "cell_type": "code",
   "execution_count": 34,
   "metadata": {},
   "outputs": [],
   "source": [
    "# This is a code cell\n",
    "# -- Import all libraries and load data in this cell --"
   ]
  },
  {
   "cell_type": "markdown",
   "metadata": {},
   "source": [
    "## Section 1 - Data Cleaning and Exploration (20 points)"
   ]
  },
  {
   "cell_type": "markdown",
   "metadata": {},
   "source": [
    "<span style=\"color:blue\"> Please provide a description of each of the types of “dirty” records that you can find in the dataset, as well as the corresponding number of such records that are to be removed the dataset. Also, write down your code for removing those records. </span>"
   ]
  },
  {
   "cell_type": "markdown",
   "metadata": {},
   "source": [
    "This is a markdown cell. Replace this cell with your answer about \"dirty\" records. "
   ]
  },
  {
   "cell_type": "code",
   "execution_count": 35,
   "metadata": {},
   "outputs": [],
   "source": [
    "# This is a code cell\n",
    "# -- Your code for removing dirty records goes here --"
   ]
  },
  {
   "cell_type": "markdown",
   "metadata": {},
   "source": [
    "<span style=\"color:blue\"> 1)~8) Please provide the answers to the questions listed in the table. </span>"
   ]
  },
  {
   "cell_type": "markdown",
   "metadata": {},
   "source": [
    "This is a markdown cell. Please fill in your answer for (1)~(8).\n",
    "\n",
    "| No. | Question                                                                                                   | Answer       |\n",
    "|-----|------------------------------------------------------------------------------------------------------------|--------------|\n",
    "| 1)  | Starting date of the dataset?                                                                              | _YourAnswer_ |\n",
    "| 2)  | Ending date of the dataset?                                                                                | _YourAnswer_ |\n",
    "| 3)  | Number of customers?                                                                                       | _YourAnswer_ |\n",
    "| 4)  | Number of transactions?                                                                                    | _YourAnswer_ |\n",
    "| 5)  | Number of different kind of items?                                                                         | _YourAnswer_ |\n",
    "| 6)  | Number of transactions customer ID 17850 has made?                                                         | _YourAnswer_ |\n",
    "| 7)  | Which customer (ID) has made the most transactions?                                                        | _YourAnswer_ |\n",
    "| 8)  | What is the item ID of the best-seller? We define \"best-seller\" as the item with the highest sales volume. | _YourAnswer_ |"
   ]
  },
  {
   "cell_type": "markdown",
   "metadata": {},
   "source": [
    "<span style=\"color:blue\"> 9) Next, let us get some general understanding about the transactions.  Please make a histogram of the number of unique items per transaction and describe one insight that you can observe from the plot, and explain why you find it interesting.  </span>"
   ]
  },
  {
   "cell_type": "code",
   "execution_count": 36,
   "metadata": {},
   "outputs": [],
   "source": [
    "# This is a code cell\n",
    "# --- Your code for generating the histogram goes here ---"
   ]
  },
  {
   "cell_type": "markdown",
   "metadata": {},
   "source": [
    "This is a markdown cell. Replace this cell with your insights and reasons for (9)."
   ]
  },
  {
   "cell_type": "markdown",
   "metadata": {},
   "source": [
    "<span style=\"color:blue\"> 10) We can also explore the data based on the items.  Let us make a bar plot of the items with support higher than 5%. Please describe one insight that you can observe from the plot, and explain how it can be related to rule mining. </span>"
   ]
  },
  {
   "cell_type": "code",
   "execution_count": 37,
   "metadata": {},
   "outputs": [],
   "source": [
    "# This is a code cell\n",
    "# --- Your code for generating the bar plot goes here ---"
   ]
  },
  {
   "cell_type": "markdown",
   "metadata": {},
   "source": [
    "This is a markdown cell. Replace this cell with your insights and reasons for (10)."
   ]
  },
  {
   "cell_type": "markdown",
   "metadata": {},
   "source": [
    "<span style=\"color:blue\"> 11) Compare the “best-seller” that you have previously found in (8) and the item with the highest support that you have just found in (10). Which item do you think is more popular? Here we define the “popular” items as items that are bought by many customers. Explain you answer and describe any assumptions you’ve made. </span>"
   ]
  },
  {
   "cell_type": "markdown",
   "metadata": {},
   "source": [
    "This is a markdown cell. Replace this cell with your answer and explanations to (11)."
   ]
  },
  {
   "cell_type": "markdown",
   "metadata": {},
   "source": [
    "## Section 2 - Mining Association Rules"
   ]
  },
  {
   "cell_type": "markdown",
   "metadata": {},
   "source": [
    "<span style=\"color:blue\"> 1) Will we complete the counting before the sun burns out (the sun has another $ 5 \\times 10^9 < 2^{33} $ years to burn)? </span>"
   ]
  },
  {
   "cell_type": "markdown",
   "metadata": {},
   "source": [
    "This is a markdown cell. Replace this cell with your answer and reasons for (1)."
   ]
  },
  {
   "cell_type": "markdown",
   "metadata": {},
   "source": [
    "<span style=\"color:blue\"> 2) Run efficient-apriori in python with min_support=0.5%, min_confidence=20%, max_length=4. Write down the rule with the highest lift (denoted as $r_1$). </span>"
   ]
  },
  {
   "cell_type": "code",
   "execution_count": 38,
   "metadata": {},
   "outputs": [],
   "source": [
    "# This is a code cell\n",
    "# --- Your code for apriori algorithm goes here ---"
   ]
  },
  {
   "cell_type": "markdown",
   "metadata": {},
   "source": [
    "This is a markdown cell. Replace this cell with the rule you find for (2)."
   ]
  },
  {
   "cell_type": "markdown",
   "metadata": {},
   "source": [
    "<span style=\"color:blue\"> 3) Run efficient-apriori in python with min_support=1%, min_confidence=20%, max_length=4. Write down the rule with the highest lift (denoted as $r_2$). </span>"
   ]
  },
  {
   "cell_type": "code",
   "execution_count": 39,
   "metadata": {},
   "outputs": [],
   "source": [
    "# This is a code cell\n",
    "# --- Your code for apriori algorithm goes here ---"
   ]
  },
  {
   "cell_type": "markdown",
   "metadata": {},
   "source": [
    "This is a markdown cell. Replace this cell with the rule you find for (3)."
   ]
  },
  {
   "cell_type": "markdown",
   "metadata": {},
   "source": [
    "<span style=\"color:blue\"> 4) Run efficient-apriori in python with min_support=0.5%, min_confidence=40%, max_length=4. Write down the rule with the highest lift (denoted as $r_3$). </span>"
   ]
  },
  {
   "cell_type": "code",
   "execution_count": 40,
   "metadata": {},
   "outputs": [],
   "source": [
    "# This is a code cell\n",
    "# --- Your code for apriori algorithm goes here ---"
   ]
  },
  {
   "cell_type": "markdown",
   "metadata": {},
   "source": [
    "This is a markdown cell. Replace this cell with the rule you find for (4)."
   ]
  },
  {
   "cell_type": "markdown",
   "metadata": {},
   "source": [
    "<span style=\"color:blue\"> 5) You must have noticed numerous differences between the two runs in (2) and (3). List at least 3 differences you’ve found. You may want to consider the elapsed time and the quality of the results.  </span>"
   ]
  },
  {
   "cell_type": "markdown",
   "metadata": {},
   "source": [
    "This is a markdown cell. Replace this cell with the differences you find in (5)."
   ]
  },
  {
   "cell_type": "markdown",
   "metadata": {},
   "source": [
    "<span style=\"color:blue\"> 6) Which one in $r_1$,$r_2$, and $r_3$ do you think is better? Explain your answer. </span>"
   ]
  },
  {
   "cell_type": "markdown",
   "metadata": {},
   "source": [
    "This is a markdown cell. Replace this cell with your answer and reasons for (6)."
   ]
  },
  {
   "cell_type": "markdown",
   "metadata": {},
   "source": [
    "<span style=\"color:blue\"> 7) From your observation, what are the effects of increasing/reducing min_support and min_confidence? Support your answer with evidence. </span>"
   ]
  },
  {
   "cell_type": "markdown",
   "metadata": {},
   "source": [
    "This is a markdown cell. Replace this cell with your answer and evidences for (7)."
   ]
  },
  {
   "cell_type": "markdown",
   "metadata": {},
   "source": [
    "## Section 3 - Mining Sequential Rules"
   ]
  },
  {
   "cell_type": "markdown",
   "metadata": {},
   "source": [
    "<span style=\"color:blue\"> 1) Organize the dataset into sequences and fill the table below. </span>"
   ]
  },
  {
   "cell_type": "markdown",
   "metadata": {},
   "source": [
    "This is a markdown cell. Please fill in your answer for (1).\n",
    "\n",
    "| CustomerID | Beginning Date of Sequence | Ending Date of Sequence | Number of transactions in the sequence |\n",
    "|:----------:|:--------------------------:|:-----------------------:|:--------------------------------------:|\n",
    "|    12356   |        _YourAnswer_        |       _YourAnswer_      |              _YourAnswer_              |"
   ]
  },
  {
   "cell_type": "markdown",
   "metadata": {},
   "source": [
    "<span style=\"color:blue\"> 2) Run ERMiner with min_support=0.5%, min_confidence=60%, maximum length of antecedent and consequence being 1. Write down the rule(s) with the highest confidence. </span> You need to convert the dataset into the format that SPMF supports. Please read http://www.philippe-fournier-viger.com/spmf/ERMiner.php carefully."
   ]
  },
  {
   "cell_type": "markdown",
   "metadata": {},
   "source": [
    "This is a markdown cell. Please replace this cell with the rule(s) you find for (2)."
   ]
  },
  {
   "cell_type": "markdown",
   "metadata": {},
   "source": [
    "<span style=\"color:blue\"> 3) Do you think the parameters used in (2) are good in practice? If yes, explain your answer. If no, give a better set of parameters and explain why it is better. </span>"
   ]
  },
  {
   "cell_type": "markdown",
   "metadata": {},
   "source": [
    "This is a markdown cell. Please replace this cell with your answer for (3)."
   ]
  },
  {
   "cell_type": "markdown",
   "metadata": {},
   "source": [
    "<span style=\"color:blue\"> 4) What are the differences between sequential rules and association rules? Give 2 of them. Describe a circumstance where sequential rules apply but association rules do not. </span>"
   ]
  },
  {
   "cell_type": "markdown",
   "metadata": {},
   "source": [
    "This is a markdown cell. Please replace this cell with your answer for (4)."
   ]
  },
  {
   "cell_type": "markdown",
   "metadata": {},
   "source": [
    "## Section 4 - Insights to Actions\n",
    "\n",
    "Please prepare a one-page report on the insights that you have derived from the dataset and how Nozama management can turn the insights into actions that will help it improve its sales and services. Please provide at least 4 insights and the corresponding actions. The insights should not overlap with what you have found in Sections 1~3. \n",
    "\n",
    "Please submit a one-page pdf file named __“YourNameInIVLE_YourIDInIVLE.pdf\"__ to the submission folder in IVLE."
   ]
  }
 ],
 "metadata": {
  "kernelspec": {
   "display_name": "Python 3",
   "language": "python",
   "name": "python3"
  },
  "language_info": {
   "codemirror_mode": {
    "name": "ipython",
    "version": 3
   },
   "file_extension": ".py",
   "mimetype": "text/x-python",
   "name": "python",
   "nbconvert_exporter": "python",
   "pygments_lexer": "ipython3",
   "version": "3.7.2"
  }
 },
 "nbformat": 4,
 "nbformat_minor": 2
}
